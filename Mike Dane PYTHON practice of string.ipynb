{
 "cells": [
  {
   "cell_type": "code",
   "execution_count": 18,
   "metadata": {},
   "outputs": [
    {
     "name": "stdout",
     "output_type": "stream",
     "text": [
      "JUST \\ DO IT\n"
     ]
    }
   ],
   "source": [
    "phrase=\"JUST \\ DO IT\"\n",
    "print(phrase)"
   ]
  },
  {
   "cell_type": "code",
   "execution_count": 22,
   "metadata": {},
   "outputs": [
    {
     "name": "stdout",
     "output_type": "stream",
     "text": [
      "JUST \\ DO IT is good\n"
     ]
    }
   ],
   "source": [
    "print(phrase+\" is good\")"
   ]
  },
  {
   "cell_type": "code",
   "execution_count": 20,
   "metadata": {},
   "outputs": [
    {
     "name": "stdout",
     "output_type": "stream",
     "text": [
      "just \\ do it\n"
     ]
    }
   ],
   "source": [
    "print(phrase.lower())"
   ]
  },
  {
   "cell_type": "code",
   "execution_count": 21,
   "metadata": {},
   "outputs": [
    {
     "name": "stdout",
     "output_type": "stream",
     "text": [
      "False\n"
     ]
    }
   ],
   "source": [
    "print(phrase.lower().isupper())"
   ]
  },
  {
   "cell_type": "code",
   "execution_count": 23,
   "metadata": {},
   "outputs": [
    {
     "name": "stdout",
     "output_type": "stream",
     "text": [
      "12\n"
     ]
    }
   ],
   "source": [
    "print(len(phrase))"
   ]
  },
  {
   "cell_type": "code",
   "execution_count": 16,
   "metadata": {},
   "outputs": [
    {
     "name": "stdout",
     "output_type": "stream",
     "text": [
      "J\n",
      "T\n",
      "T\n"
     ]
    }
   ],
   "source": [
    "phrase=\"JUST \\ DO IT\"\n",
    "print(phrase[0])\n",
    "print(phrase[3])\n",
    "print(phrase[-1])#"
   ]
  },
  {
   "cell_type": "code",
   "execution_count": 33,
   "metadata": {},
   "outputs": [
    {
     "name": "stdout",
     "output_type": "stream",
     "text": [
      "J\n",
      "T\n",
      "MUST \\ DO IT\n"
     ]
    }
   ],
   "source": [
    "phrase=\"JUST \\ DO IT\"\n",
    "print(phrase[0])\n",
    "print(phrase[3])\n",
    "print(phrase.replace(\"JUST\",\"MUST\"))\n",
    "      "
   ]
  },
  {
   "cell_type": "code",
   "execution_count": 35,
   "metadata": {},
   "outputs": [
    {
     "name": "stdout",
     "output_type": "stream",
     "text": [
      "8.1415\n"
     ]
    }
   ],
   "source": [
    "#数字\n",
    "phrase=3.1415\n",
    "print(phrase+5)\n"
   ]
  },
  {
   "cell_type": "code",
   "execution_count": 39,
   "metadata": {},
   "outputs": [
    {
     "name": "stdout",
     "output_type": "stream",
     "text": [
      "1\n"
     ]
    }
   ],
   "source": [
    "print(10%3)"
   ]
  },
  {
   "cell_type": "raw",
   "metadata": {},
   "source": [
    "a = (10 % 3)\n",
    "print(a)\n",
    "print(str(a))# 问题2 不运行"
   ]
  },
  {
   "cell_type": "code",
   "execution_count": 9,
   "metadata": {},
   "outputs": [
    {
     "name": "stdout",
     "output_type": "stream",
     "text": [
      "5\n",
      "2.4883199999999994\n",
      "1\n",
      "3\n",
      "6.0\n",
      "3\n",
      "4\n"
     ]
    }
   ],
   "source": [
    "a=-5\n",
    "b=1\n",
    "c=3.1415\n",
    "print(abs(a))\n",
    "print(pow(1.2,5))\n",
    "print(max(a,b))\n",
    "print(round(c))     #四舍五入\n",
    "from math import *\n",
    "print(sqrt(36))     #  求平方根\n",
    "print(floor(3.6))   # 往前取整 \n",
    "print(ceil(3.3))    #  往后取整"
   ]
  },
  {
   "cell_type": "code",
   "execution_count": 10,
   "metadata": {},
   "outputs": [],
   "source": [
    "# 输入 练习"
   ]
  },
  {
   "cell_type": "code",
   "execution_count": null,
   "metadata": {},
   "outputs": [],
   "source": [
    "name = input(\"Enter your name\")\n",
    "age = input(\"Enter your age\")\n",
    "print(\"Hello \"+ name +\"! You are \"+ age)"
   ]
  },
  {
   "cell_type": "code",
   "execution_count": 2,
   "metadata": {},
   "outputs": [
    {
     "name": "stdin",
     "output_type": "stream",
     "text": [
      "Enter  a  numaber: 600\n",
      "Enter  a  numaber: 200\n"
     ]
    },
    {
     "name": "stdout",
     "output_type": "stream",
     "text": [
      "800.0\n"
     ]
    }
   ],
   "source": [
    "#计算器\n",
    "num1 = input(\"Enter  a  numaber:\")\n",
    "num2 = input(\"Enter  a  numaber:\")\n",
    "sum = float(num1) +float( num2)\n",
    "print(sum)"
   ]
  },
  {
   "cell_type": "code",
   "execution_count": null,
   "metadata": {},
   "outputs": [
    {
     "name": "stdin",
     "output_type": "stream",
     "text": [
      "Enter a name g\n"
     ]
    }
   ],
   "source": [
    "#文字替换\n",
    "WHO = input(\"Enter a name\")\n",
    "color = input(\"Enter a color\")\n",
    "c= input(\"Enter a man\")\n",
    "d = WHO\n",
    "print(WHO+\" is my lover\")\n",
    "print(color + \" is her favaerate color\")\n",
    "print(c + \" is my son\")\n",
    "print(d + \" is his mami\")\n",
    "print(c + \" and \" + d + \"love each other\")"
   ]
  },
  {
   "cell_type": "code",
   "execution_count": 6,
   "metadata": {},
   "outputs": [
    {
     "name": "stdout",
     "output_type": "stream",
     "text": [
      "1\n",
      "5\n",
      "['star', 1, 2]\n"
     ]
    }
   ],
   "source": [
    "#list 列表\n",
    "friends = [\"jay\",\"star\",\"Fly\",2,5,6]\n",
    "friends[2] = 1\n",
    "print(friends[2])\n",
    "print(friends[-2])\n",
    "print(friends[1:4])\n"
   ]
  },
  {
   "cell_type": "code",
   "execution_count": 1,
   "metadata": {},
   "outputs": [
    {
     "name": "stdout",
     "output_type": "stream",
     "text": [
      "56.0\n"
     ]
    }
   ],
   "source": [
    "#比大小\n",
    "def max_num(num1,num2,num3):\n",
    "    if num1 >= num2 and num1 >= num3:\n",
    "        return num1\n",
    "    elif num2 >= num1 and num2>= num3:\n",
    "        return num2\n",
    "    else:\n",
    "        return num3\n",
    "print(max_num(3,56.0,50))"
   ]
  },
  {
   "cell_type": "code",
   "execution_count": 1,
   "metadata": {},
   "outputs": [
    {
     "name": "stdin",
     "output_type": "stream",
     "text": [
      "Enter the first number 6\n",
      "Enter operator **\n",
      "Enter the second number 6\n"
     ]
    },
    {
     "name": "stdout",
     "output_type": "stream",
     "text": [
      "46656.0\n"
     ]
    }
   ],
   "source": [
    "#计算器第二版\n",
    "num1 = float(input(\"Enter the first number\"))\n",
    "op  =  input(\"Enter operator\")\n",
    "num2 = float(input(\"Enter the second number\"))\n",
    "if op ==\"+\":\n",
    "    print(num1 + num2)\n",
    "elif op == \"-\":\n",
    "    print(num1 - num2)\n",
    "elif op == \"*\":\n",
    "    print(num1 * num2)\n",
    "elif op == \"/\":\n",
    "    print(num1/num2)\n",
    "elif op == \"//\":\n",
    "    print(num1//num2)\n",
    "elif op == \"**\":\n",
    "    print(num1**num2)\n",
    "    \n",
    "else:\n",
    "    print (\"Invalid operator\")\n"
   ]
  },
  {
   "cell_type": "code",
   "execution_count": 21,
   "metadata": {},
   "outputs": [
    {
     "name": "stdout",
     "output_type": "stream",
     "text": [
      "November\n",
      "Njjj\n"
     ]
    }
   ],
   "source": [
    "#Dictionaries 字典\n",
    "monthCoversions = {\n",
    "    \"Jan\":\"January\",\n",
    "    \"Feb\": \"February\",\n",
    "    \"Mar\": \"March\",\n",
    "    \"Apr\": \"April\",\n",
    "    \"May\": \"May\",\n",
    "    \"Jan\": \"Jane\",\n",
    "    \"Jul\": \"July\",\n",
    "    \"Aug\": \"August\",\n",
    "    \"Sep\": \"September\",\n",
    "    \"7\": \"Otcober\",\n",
    "    \"Nov\": \"November\",\n",
    "    \"Dec\": \"December\",\n",
    "}\n",
    "print(monthCoversions[\"Nov\"])\n",
    "print(monthCoversions.get(\"8\",\"Njjj\"))"
   ]
  },
  {
   "cell_type": "code",
   "execution_count": 25,
   "metadata": {},
   "outputs": [
    {
     "name": "stdout",
     "output_type": "stream",
     "text": [
      "1\n",
      "2\n",
      "3\n",
      "4\n",
      "5\n",
      "6\n",
      "7\n",
      "8\n",
      "9\n",
      "10\n",
      "Done with loop\n"
     ]
    }
   ],
   "source": [
    "#While loop WHIle循环\n",
    "i = 1\n",
    "while i <= 10:\n",
    "    print(i)\n",
    "    i += 1\n",
    "print(\"Done with loop\")"
   ]
  },
  {
   "cell_type": "code",
   "execution_count": 19,
   "metadata": {},
   "outputs": [
    {
     "name": "stdin",
     "output_type": "stream",
     "text": [
      "Enter guess 7‘’\n",
      "Enter guess 7\n",
      "Enter guess 45\n",
      "Enter guess 8\n",
      "Enter guess jing\n"
     ]
    },
    {
     "name": "stdout",
     "output_type": "stream",
     "text": [
      "You win！\n"
     ]
    }
   ],
   "source": [
    "#初级密码器\n",
    "secret_word = \"jing\"\n",
    "guess = \"\"\n",
    "guess_count = 0\n",
    "guess_count_limit =5\n",
    "out_of_guess = False\n",
    "while guess !=secret_word and not(out_of_guess):\n",
    "    if guess_count <= guess_count_limit:\n",
    "        guess = input(\"Enter guess\")\n",
    "        guess_count += 1\n",
    "    else:\n",
    "        out_of_guess = True\n",
    "if not(out_of_guess):\n",
    "    print(\"You win！\")\n",
    "else:\n",
    "    print(\"You lose！\")\n",
    "    "
   ]
  },
  {
   "cell_type": "code",
   "execution_count": 25,
   "metadata": {},
   "outputs": [
    {
     "name": "stdout",
     "output_type": "stream",
     "text": [
      "3\n",
      "4\n",
      "5\n",
      "6\n",
      "7\n",
      "8\n",
      "9\n"
     ]
    }
   ],
   "source": [
    "# for 循环 \n",
    "for i in range(3,10):\n",
    "    print(i)\n",
    "    \n"
   ]
  },
  {
   "cell_type": "code",
   "execution_count": 33,
   "metadata": {},
   "outputs": [
    {
     "name": "stdout",
     "output_type": "stream",
     "text": [
      "4.299816959999999\n"
     ]
    }
   ],
   "source": [
    "#指数函数\n",
    "def raise_to_power(base_num,pow_num):\n",
    "    result = 1\n",
    "    for radam in range(pow_num):\n",
    "        result = result * base_num\n",
    "    return result\n",
    "print(raise_to_power(1.2,8))        \n"
   ]
  },
  {
   "cell_type": "code",
   "execution_count": 37,
   "metadata": {},
   "outputs": [
    {
     "name": "stdout",
     "output_type": "stream",
     "text": [
      "1\n",
      "2\n",
      "3\n",
      "4\n",
      "5\n",
      "6\n",
      "7\n",
      "8\n",
      "9\n",
      "0\n"
     ]
    }
   ],
   "source": [
    "#2d 列表\n",
    "Nums = [\n",
    "    [1,2,3],\n",
    "    [4,5,6],\n",
    "    [7,8,9],\n",
    "    [0]\n",
    "       ]\n",
    "for i in Nums:\n",
    "    for b in i:\n",
    "        print(b)\n"
   ]
  },
  {
   "cell_type": "code",
   "execution_count": 1,
   "metadata": {},
   "outputs": [
    {
     "name": "stdin",
     "output_type": "stream",
     "text": [
      "Enter a word! On the road!\n"
     ]
    },
    {
     "name": "stdout",
     "output_type": "stream",
     "text": [
      "Gn thg rggd!\n"
     ]
    }
   ],
   "source": [
    "#翻译程序 元音替换字母\n",
    "def trans_late(phrase):\n",
    "    translation = \"\"\n",
    "    for letter in phrase:\n",
    "        if letter.lower() in \"aeiou\":\n",
    "            if letter.isupper():\n",
    "                translation = translation + \"G\"\n",
    "            else:\n",
    "                translation =translation + \"g\"\n",
    "        else:\n",
    "             translation =  translation + letter\n",
    "    return translation\n",
    "print(trans_late(input(\"Enter a word!\")))\n",
    "    "
   ]
  },
  {
   "cell_type": "code",
   "execution_count": 2,
   "metadata": {},
   "outputs": [
    {
     "name": "stdin",
     "output_type": "stream",
     "text": [
      "Enter a number u\n"
     ]
    },
    {
     "name": "stdout",
     "output_type": "stream",
     "text": [
      "Invalid Input\n"
     ]
    }
   ],
   "source": [
    "#错误处理 except\n",
    "try:\n",
    "    number = int(input(\"Enter a number\"))\n",
    "    print(number)\n",
    "except:\n",
    "    print(\"Invalid Input\")\n",
    "    "
   ]
  },
  {
   "cell_type": "code",
   "execution_count": 4,
   "metadata": {},
   "outputs": [
    {
     "name": "stdout",
     "output_type": "stream",
     "text": [
      "\n"
     ]
    }
   ],
   "source": [
    "#文件读写  问题打不开 jupyter创建后文档\n",
    "eee = open(\"112.txt\",\"w\")\n",
    "eee.write(\"\\nYou are grate！\")\n",
    "\n",
    "eee1 = open(\"112.txt\",\"r\")\n",
    "print(eee1.read())\n",
    "eee.close()"
   ]
  },
  {
   "cell_type": "code",
   "execution_count": 12,
   "metadata": {},
   "outputs": [
    {
     "name": "stdout",
     "output_type": "stream",
     "text": [
      "\n",
      "You are grate！\n",
      "You are grate！\n",
      "You are grate！\n",
      "You are grate！\n",
      "You are grate！\n"
     ]
    }
   ],
   "source": [
    "eee1 = open(\"112.txt\",\"a\")\n",
    "eee1.write(\"\\nYou are grate！\")\n",
    "eee2 = open(\"112.txt\",\"r\")\n",
    "print(eee2.read())\n"
   ]
  },
  {
   "cell_type": "code",
   "execution_count": 11,
   "metadata": {},
   "outputs": [],
   "source": [
    "eee2.close()"
   ]
  },
  {
   "cell_type": "code",
   "execution_count": 2,
   "metadata": {},
   "outputs": [
    {
     "name": "stdin",
     "output_type": "stream",
     "text": [
      "输入你的年龄? jjj\n"
     ]
    },
    {
     "name": "stdout",
     "output_type": "stream",
     "text": [
      "输入错误，请重新输入一个数字\n",
      "Invaild Input, Enter a number！\n"
     ]
    }
   ],
   "source": [
    "age = input(\"输入你的年龄?\")\n",
    "try:\n",
    "    if int(age) <=15:\n",
    "        print(\"小屁孩\")\n",
    "    elif int(age) <= 50 and int(age) >= 15:\n",
    "        print(\"年轻人 ,just do it!\")\n",
    "    else:\n",
    "        print(\"Time is valuable, just do it now!\")\n",
    "except:\n",
    "    print(\"输入错误，请重新输入一个数字\\nInvaild Input, Enter a number！\")\n"
   ]
  },
  {
   "cell_type": "code",
   "execution_count": null,
   "metadata": {},
   "outputs": [],
   "source": []
  },
  {
   "cell_type": "code",
   "execution_count": null,
   "metadata": {},
   "outputs": [],
   "source": []
  }
 ],
 "metadata": {
  "kernelspec": {
   "display_name": "Python 3",
   "language": "python",
   "name": "python3"
  },
  "language_info": {
   "codemirror_mode": {
    "name": "ipython",
    "version": 3
   },
   "file_extension": ".py",
   "mimetype": "text/x-python",
   "name": "python",
   "nbconvert_exporter": "python",
   "pygments_lexer": "ipython3",
   "version": "3.7.4"
  }
 },
 "nbformat": 4,
 "nbformat_minor": 4
}
